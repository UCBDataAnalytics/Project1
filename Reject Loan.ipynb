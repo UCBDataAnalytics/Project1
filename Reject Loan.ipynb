{
 "cells": [
  {
   "cell_type": "code",
   "execution_count": 12,
   "metadata": {},
   "outputs": [],
   "source": [
    "import pandas as pd\n",
    "import re"
   ]
  },
  {
   "cell_type": "code",
   "execution_count": 22,
   "metadata": {},
   "outputs": [],
   "source": [
    "Q1 = pd.read_csv('/Users/teresalee/Desktop/RejectStats_2017Q1.csv', skiprows=1)\n",
    "Q2 = pd.read_csv('/Users/teresalee/Desktop/RejectStats_2017Q2.csv', skiprows=1)\n",
    "Q3 = pd.read_csv('/Users/teresalee/Desktop/RejectStats_2017Q3.csv', skiprows=1)\n",
    "Q4 = pd.read_csv('/Users/teresalee/Desktop/RejectStats_2017Q4.csv', skiprows=1)"
   ]
  },
  {
   "cell_type": "code",
   "execution_count": 23,
   "metadata": {},
   "outputs": [],
   "source": [
    "loan17 = Q1.append([Q2,Q3,Q4])"
   ]
  },
  {
   "cell_type": "code",
   "execution_count": 24,
   "metadata": {},
   "outputs": [],
   "source": [
    "#Delete unused columns\n",
    "loan17 = loan17.drop(['Risk_Score', 'Policy Code', 'Zip Code'], axis=1)"
   ]
  },
  {
   "cell_type": "code",
   "execution_count": 25,
   "metadata": {},
   "outputs": [],
   "source": [
    "#Change Loan Title categories so they're standardized\n",
    "loan17['Loan Title'] = loan17['Loan Title'].str.replace('Business Loan', 'Business')\n",
    "loan17['Loan Title'] = loan17['Loan Title'].str.replace('home_improvement', 'Home improvement')\n",
    "loan17['Loan Title'] = loan17['Loan Title'].str.replace('car', 'Car financing')\n",
    "loan17['Loan Title'] = loan17['Loan Title'].str.replace('credit_card', 'Credit card refinancing')\n",
    "loan17['Loan Title'] = loan17['Loan Title'].str.replace('debt_consolidation', 'Debt consolidation')\n",
    "loan17['Loan Title'] = loan17['Loan Title'].str.replace('house', 'Home buying')\n",
    "loan17['Loan Title'] = loan17['Loan Title'].str.replace('medical', 'Medical expenses')\n",
    "loan17['Loan Title'] = loan17['Loan Title'].str.replace('moving', 'Moving and relocation')\n",
    "loan17['Loan Title'] = loan17['Loan Title'].str.replace('major_purchase', 'Major purchase')\n",
    "loan17['Loan Title'] = loan17['Loan Title'].str.replace('vacation', 'Vacation')\n",
    "loan17['Loan Title'] = loan17['Loan Title'].str.replace('renewable_energy', 'Renewable energy')\n",
    "loan17['Loan Title'] = loan17['Loan Title'].str.replace('small_business', 'Small business')\n",
    "loan17['Loan Title'] = loan17['Loan Title'].str.replace('other', 'Other')"
   ]
  },
  {
   "cell_type": "code",
   "execution_count": 26,
   "metadata": {},
   "outputs": [],
   "source": [
    "#Optional: Change column names with _\n",
    "loan17 = loan17.rename(columns = {'Amount Requested': 'Amount_Requested', \n",
    "                          'Application Date': 'Application_Date', \n",
    "                          'Loan Title':'Loan_Title', \n",
    "                          'Debt-To-Income Ratio':'Debt_to_Income_Ratio', \n",
    "                          'Employment Length':'Employment_Length'})"
   ]
  },
  {
   "cell_type": "code",
   "execution_count": 29,
   "metadata": {},
   "outputs": [],
   "source": [
    "#Total number of rejected applications by state\n",
    "State_Total_Rej = loan17.groupby('State').Application_Date.count()"
   ]
  },
  {
   "cell_type": "code",
   "execution_count": 38,
   "metadata": {},
   "outputs": [
    {
     "data": {
      "text/plain": [
       "State\n",
       "AK     15238\n",
       "AL    128912\n",
       "AR     73922\n",
       "AZ    153543\n",
       "CA    832267\n",
       "CO    120246\n",
       "CT     81790\n",
       "DC     13627\n",
       "DE     24486\n",
       "FL    547687\n",
       "GA    283395\n",
       "HI     39865\n",
       "IA       238\n",
       "ID     27134\n",
       "IL    258085\n",
       "IN    136270\n",
       "KS     59188\n",
       "KY     86690\n",
       "LA    106579\n",
       "MA    134178\n",
       "MD    158233\n",
       "ME     25014\n",
       "MI    192075\n",
       "MN     91984\n",
       "MO    128493\n",
       "MS     79540\n",
       "MT     18582\n",
       "NC    221622\n",
       "ND     14676\n",
       "NE     35136\n",
       "NH     29860\n",
       "NJ    217466\n",
       "NM     41885\n",
       "NV     84385\n",
       "NY    494900\n",
       "OH    259846\n",
       "OK     77303\n",
       "OR     71142\n",
       "PA    268100\n",
       "RI     28886\n",
       "SC    122496\n",
       "SD     14094\n",
       "TN    152186\n",
       "TX    636860\n",
       "UT     45487\n",
       "VA    189585\n",
       "VT     12379\n",
       "WA    127776\n",
       "WI     91046\n",
       "WV      5944\n",
       "WY     12252\n",
       "Name: Application_Date, dtype: int64"
      ]
     },
     "execution_count": 38,
     "metadata": {},
     "output_type": "execute_result"
    }
   ],
   "source": [
    "#Insert Chart here for State_Total_Rej\n",
    "State_Total_Rej"
   ]
  },
  {
   "cell_type": "code",
   "execution_count": 41,
   "metadata": {},
   "outputs": [],
   "source": [
    "#Total in amount requested by state\n",
    "State_Loan_Amount = loan17.groupby('State').sum()"
   ]
  },
  {
   "cell_type": "code",
   "execution_count": 57,
   "metadata": {},
   "outputs": [
    {
     "data": {
      "text/plain": [
       "Loan_Title\n",
       "Business                     41233\n",
       "Car financing               125620\n",
       "Credit card refinancing     446162\n",
       "Debt consolidation         1060912\n",
       "Green loan                    2850\n",
       "Home buying                 112649\n",
       "Home improvement             67463\n",
       "Major purchase              100902\n",
       "Medical expenses             61772\n",
       "Moving and relocation        44759\n",
       "Other                       500368\n",
       "Vacation                     20555\n",
       "Name: Loan_Title, dtype: int64"
      ]
     },
     "execution_count": 57,
     "metadata": {},
     "output_type": "execute_result"
    }
   ],
   "source": [
    "#Total loan applications by type\n",
    "Loan_Types = loan17.groupby('Loan_Title').Loan_Title.count()"
   ]
  },
  {
   "cell_type": "code",
   "execution_count": 55,
   "metadata": {},
   "outputs": [
    {
     "data": {
      "text/plain": [
       "Loan_Title  State\n",
       "Business    CA       6012\n",
       "            FL       4374\n",
       "            TX       4087\n",
       "            NY       3031\n",
       "            GA       2116\n",
       "            IL       1318\n",
       "            NJ       1270\n",
       "            NC       1124\n",
       "            PA       1121\n",
       "            OH       1077\n",
       "            VA        944\n",
       "            MI        917\n",
       "            MD        912\n",
       "            AZ        870\n",
       "            CO        717\n",
       "            TN        715\n",
       "            MA        680\n",
       "            LA        671\n",
       "            IN        631\n",
       "            MO        628\n",
       "            WA        628\n",
       "            AL        620\n",
       "            SC        593\n",
       "            NV        574\n",
       "            MN        454\n",
       "            CT        443\n",
       "            MS        429\n",
       "            OR        422\n",
       "            WI        402\n",
       "            AR        371\n",
       "                     ... \n",
       "Vacation    MO        330\n",
       "            KY        297\n",
       "            HI        291\n",
       "            IN        290\n",
       "            MS        273\n",
       "            NV        266\n",
       "            CT        250\n",
       "            CO        244\n",
       "            WI        220\n",
       "            OK        192\n",
       "            AR        179\n",
       "            MN        177\n",
       "            NM        155\n",
       "            OR        152\n",
       "            KS        129\n",
       "            WV        116\n",
       "            UT        106\n",
       "            NE         82\n",
       "            DE         78\n",
       "            RI         67\n",
       "            NH         64\n",
       "            AK         63\n",
       "            ID         60\n",
       "            DC         54\n",
       "            ND         45\n",
       "            ME         41\n",
       "            SD         41\n",
       "            MT         38\n",
       "            VT         35\n",
       "            WY         31\n",
       "Name: State, Length: 604, dtype: int64"
      ]
     },
     "execution_count": 55,
     "metadata": {},
     "output_type": "execute_result"
    }
   ],
   "source": [
    "#Overview of loan applications by type per state\n",
    "Loan_Types_Per_State = Q3.groupby('Loan_Title').State.value_counts()"
   ]
  },
  {
   "cell_type": "code",
   "execution_count": 54,
   "metadata": {},
   "outputs": [
    {
     "data": {
      "text/plain": [
       "State  Loan_Title             \n",
       "AK     Debt consolidation          1892\n",
       "       Other                        970\n",
       "       Credit card refinancing      884\n",
       "       Major purchase               272\n",
       "       Home buying                  173\n",
       "       Car financing                156\n",
       "       Medical expenses             108\n",
       "       Home improvement             100\n",
       "       Business                      97\n",
       "       Moving and relocation         88\n",
       "       Vacation                      63\n",
       "       Green loan                     9\n",
       "AL     Debt consolidation         17724\n",
       "       Other                       8764\n",
       "       Credit card refinancing     5678\n",
       "       Car financing               2378\n",
       "       Home buying                 2283\n",
       "       Major purchase              1690\n",
       "       Home improvement            1397\n",
       "       Medical expenses            1145\n",
       "       Moving and relocation        716\n",
       "       Business                     620\n",
       "       Vacation                     345\n",
       "       Green loan                    49\n",
       "AR     Debt consolidation         10349\n",
       "       Other                       5546\n",
       "       Credit card refinancing     4368\n",
       "       Home buying                 1515\n",
       "       Car financing               1496\n",
       "       Major purchase              1127\n",
       "                                  ...  \n",
       "WI     Medical expenses             747\n",
       "       Home improvement             636\n",
       "       Moving and relocation        444\n",
       "       Business                     402\n",
       "       Vacation                     220\n",
       "       Green loan                    42\n",
       "WV     Debt consolidation          6373\n",
       "       Other                       2790\n",
       "       Credit card refinancing     2377\n",
       "       Home buying                  973\n",
       "       Major purchase               639\n",
       "       Car financing                502\n",
       "       Home improvement             501\n",
       "       Medical expenses             264\n",
       "       Moving and relocation        203\n",
       "       Business                     135\n",
       "       Vacation                     116\n",
       "       Green loan                     7\n",
       "WY     Debt consolidation          2000\n",
       "       Other                        750\n",
       "       Credit card refinancing      738\n",
       "       Major purchase               191\n",
       "       Home buying                  145\n",
       "       Medical expenses             139\n",
       "       Car financing                134\n",
       "       Home improvement              83\n",
       "       Moving and relocation         55\n",
       "       Business                      41\n",
       "       Vacation                      31\n",
       "       Green loan                     2\n",
       "Name: Loan_Title, Length: 604, dtype: int64"
      ]
     },
     "execution_count": 54,
     "metadata": {},
     "output_type": "execute_result"
    }
   ],
   "source": [
    "#Overview of loan application types by state\n",
    "Loan_By_State = Q3.groupby('State').Loan_Title.value_counts()"
   ]
  },
  {
   "cell_type": "code",
   "execution_count": 118,
   "metadata": {},
   "outputs": [
    {
     "data": {
      "text/plain": [
       "0            100.00\n",
       "1              7.45\n",
       "2             34.93\n",
       "3             27.87\n",
       "4             -1.00\n",
       "5             36.68\n",
       "6             19.93\n",
       "7             18.45\n",
       "8            619.44\n",
       "9             30.90\n",
       "10            12.43\n",
       "11             3.31\n",
       "12             2.34\n",
       "13           100.00\n",
       "14            28.00\n",
       "15            13.83\n",
       "16            38.55\n",
       "17             7.37\n",
       "18            14.92\n",
       "19            22.62\n",
       "20             0.00\n",
       "21           100.00\n",
       "22             8.48\n",
       "23            11.37\n",
       "24             6.67\n",
       "25            11.74\n",
       "26           100.00\n",
       "27             3.99\n",
       "28            50.53\n",
       "29           100.00\n",
       "             ...   \n",
       "2585215       22.03\n",
       "2585216       27.12\n",
       "2585217       21.13\n",
       "2585218        7.68\n",
       "2585219       38.90\n",
       "2585220       23.31\n",
       "2585221        3.42\n",
       "2585222       41.39\n",
       "2585223      100.00\n",
       "2585224        0.00\n",
       "2585225       75.09\n",
       "2585226      100.00\n",
       "2585227      419.40\n",
       "2585228       53.00\n",
       "2585229       15.85\n",
       "2585230       23.99\n",
       "2585231        2.51\n",
       "2585232       19.40\n",
       "2585233    10025.33\n",
       "2585234       24.62\n",
       "2585235       12.61\n",
       "2585236        7.55\n",
       "2585237       31.52\n",
       "2585238        1.20\n",
       "2585239       31.42\n",
       "2585240        2.24\n",
       "2585241       28.17\n",
       "2585242       20.87\n",
       "2585243       15.47\n",
       "2585244        1.53\n",
       "Name: Debt_to_Income_Ratio, Length: 2585245, dtype: float64"
      ]
     },
     "execution_count": 118,
     "metadata": {},
     "output_type": "execute_result"
    }
   ],
   "source": [
    "D2I = Q3['Debt_to_Income_Ratio'].str.replace('%', '')\n",
    "D2I = pd.to_numeric(D2I)"
   ]
  },
  {
   "cell_type": "code",
   "execution_count": 119,
   "metadata": {},
   "outputs": [],
   "source": [
    "Bins = [0, 25, 50, 75, 100]\n",
    "Group_Names = [\"0 to 25%\", \"25 to 50%\", \"50 to 75%\", \"75 to 100%\"]"
   ]
  },
  {
   "cell_type": "code",
   "execution_count": 138,
   "metadata": {},
   "outputs": [
    {
     "data": {
      "text/plain": [
       "Employment_Length\n",
       "1 year         25176\n",
       "10+ years      33181\n",
       "2 years        19911\n",
       "3 years        18067\n",
       "4 years        11726\n",
       "5 years        24289\n",
       "6 years         5995\n",
       "7 years         4110\n",
       "8 years         6924\n",
       "9 years         5690\n",
       "< 1 year     2155816\n",
       "Name: Ratio_Summary, dtype: int64"
      ]
     },
     "execution_count": 138,
     "metadata": {},
     "output_type": "execute_result"
    }
   ],
   "source": [
    "Q3[\"Ratio_Summary\"] = pd.cut(D2I, Bins, labels=Group_Names)\n",
    "Q3.groupby('Employment_Length').Ratio_Summary.count()"
   ]
  },
  {
   "cell_type": "code",
   "execution_count": 128,
   "metadata": {},
   "outputs": [
    {
     "data": {
      "text/plain": [
       "Ratio_Summary\n",
       "0 to 25%      1334300\n",
       "25 to 50%      661866\n",
       "50 to 75%      130824\n",
       "75 to 100%     278737\n",
       "Name: Ratio_Summary, dtype: int64"
      ]
     },
     "execution_count": 128,
     "metadata": {},
     "output_type": "execute_result"
    }
   ],
   "source": [
    "Ratio_Summary = Q3.groupby('Ratio_Summary').Ratio_Summary.count()\n",
    "#The lower the better\n",
    "Ratio_Summary"
   ]
  },
  {
   "cell_type": "code",
   "execution_count": 61,
   "metadata": {},
   "outputs": [],
   "source": [
    "EL = Q3.groupby('Employment_Length').Employment_Length.unique()"
   ]
  },
  {
   "cell_type": "code",
   "execution_count": null,
   "metadata": {},
   "outputs": [],
   "source": []
  },
  {
   "cell_type": "code",
   "execution_count": null,
   "metadata": {},
   "outputs": [],
   "source": []
  },
  {
   "cell_type": "code",
   "execution_count": 62,
   "metadata": {},
   "outputs": [
    {
     "data": {
      "text/plain": [
       "Employment_Length\n",
       "1 year          [1 year]\n",
       "10+ years    [10+ years]\n",
       "2 years        [2 years]\n",
       "3 years        [3 years]\n",
       "4 years        [4 years]\n",
       "5 years        [5 years]\n",
       "6 years        [6 years]\n",
       "7 years        [7 years]\n",
       "8 years        [8 years]\n",
       "9 years        [9 years]\n",
       "< 1 year      [< 1 year]\n",
       "Name: Employment_Length, dtype: object"
      ]
     },
     "execution_count": 62,
     "metadata": {},
     "output_type": "execute_result"
    }
   ],
   "source": [
    "EL"
   ]
  },
  {
   "cell_type": "code",
   "execution_count": 9,
   "metadata": {},
   "outputs": [],
   "source": [
    "Q3.to_excel('/Users/teresalee/Desktop/test.xlsx')"
   ]
  },
  {
   "cell_type": "code",
   "execution_count": null,
   "metadata": {},
   "outputs": [],
   "source": []
  }
 ],
 "metadata": {
  "kernelspec": {
   "display_name": "Python 3",
   "language": "python",
   "name": "python3"
  },
  "language_info": {
   "codemirror_mode": {
    "name": "ipython",
    "version": 3
   },
   "file_extension": ".py",
   "mimetype": "text/x-python",
   "name": "python",
   "nbconvert_exporter": "python",
   "pygments_lexer": "ipython3",
   "version": "3.6.5"
  }
 },
 "nbformat": 4,
 "nbformat_minor": 2
}
